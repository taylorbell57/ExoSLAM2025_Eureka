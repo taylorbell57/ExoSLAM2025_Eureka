{
 "cells": [
  {
   "cell_type": "markdown",
   "metadata": {},
   "source": [
    "<img src='https://eurekadocs.readthedocs.io/en/latest/_images/Eureka_logo.png' alt=\"eureka_logo\" width=\"400px\"/><img src='https://exoclimes.org/img/exoslam-bg.png' alt=\"ariel_france_logo\" width=\"220px\"/>"
   ]
  },
  {
   "cell_type": "markdown",
   "metadata": {},
   "source": [
    "# ExoSLAM 2025\n",
    "## Setup Notebook - Eureka Data Reduction of MIRI/LRS Data\n",
    "\n",
    "**Authors**: Taylor James Bell (ESA/AURA for STScI)<br>\n",
    "**Last Updated**: June 25, 2025<br>\n",
    "**jwst Pipeline Version**: 1.18.0 (Build 11.3)<br>"
   ]
  },
  {
   "cell_type": "markdown",
   "metadata": {
    "editable": true,
    "slideshow": {
     "slide_type": ""
    },
    "tags": []
   },
   "source": [
    "**Purpose**:<br>\n",
    "This setup notebook prepares the necessary files for the Eureka! data analysis tutorial notebook. Data will be located in one observation folder according to the path set up below. It should not be necessary to edit any cells other than in the [Configuration](#1.-Configuration) section.\n",
    "\n",
    "**Data**:<br/>\n",
    "This notebook is set up to use an example dataset is from [Program ID](https://www.stsci.edu/jwst/science-execution/program-information) 1366 (PI: Batalha, Natalie) which is the JWST Transiting Exoplanet Community ERS program. In particular, we will use the MIRI/LRS full-orbit phase curve of the hot Jupiter WASP-43b, which was first published in [Bell et al. (2024)](https://ui.adsabs.harvard.edu/abs/2024NatAs...8..879B/abstract). These observations continuously monitored the WASP-43 system for 26.5 hours and contain two eclipses of WASP-43b, one transit of WASP-43b, and the orbital phase variations caused by changes in the regions of WASP-43b's atmosphere that were pointed toward JWST throughout the planet's orbit.\n",
    "\n",
    "For our purposes, we are only going to work on the first 6 segments of the first exposure to keep things fairly speedy while still getting a realistic sense of what it is like to reduce MIRI/LRS data.\n",
    "\n",
    "**JWST pipeline version and CRDS context**:<br/>\n",
    "This notebook was written for the calibration pipeline version given above and uses the context associated with this version of the JWST Calibration Pipeline. Information about this and other contexts can be found in the JWST Calibration Reference Data System (CRDS) [server]((https://jwst-crds.stsci.edu/)). If you use different pipeline\n",
    "versions, please refer to the table [here](https://jwst-crds.stsci.edu/display_build_contexts/) to determine what context to use. To learn more about the differences for the pipeline, read the relevant [documentation](https://jwst-docs.stsci.edu/jwst-science-calibration-pipeline/jwst-operations-pipeline-build-information)"
   ]
  },
  {
   "cell_type": "markdown",
   "metadata": {
    "editable": true,
    "slideshow": {
     "slide_type": ""
    },
    "tags": []
   },
   "source": [
    "---\n",
    "## Table of Contents\n",
    "* [0. Setting up python environment](#0.-Setting-up-python-environment)\n",
    "* [1. Configuration](#1.-Configuration)\n",
    "* [2. Querying MAST using astroquery.mast](#2.-Querying-MAST-using-astroquery.mast)\n",
    "* [3. Downloading _uncal files for local processing](#3.-Downloading-_uncal-files-for-local-processing)\n",
    "* [4. Accessing _uncal files from AWS](#4.-Accessing-_uncal-files-from-AWS)\n",
    "* [5. Checking that the _uncal files downloaded successfully](#5.-Checking-that-the-_uncal-files-downloaded-successfully)\n",
    "* [6. Copying cached Stage 1 and Stage 4 files for JupyterHub processing](#6.-Copying-cached-Stage-1-and-Stage-4-files-for-JupyterHub-processing)"
   ]
  },
  {
   "cell_type": "markdown",
   "metadata": {},
   "source": [
    "___\n",
    "## 1. Configuration\n",
    "\n",
    "The first step is to setup the notebook and environment.\n",
    "\n",
    "We'll first import some useful packages."
   ]
  },
  {
   "cell_type": "code",
   "execution_count": null,
   "metadata": {},
   "outputs": [],
   "source": [
    "import os\n",
    "import shutil\n",
    "import numpy as np\n",
    "from astroquery.mast import Observations"
   ]
  },
  {
   "cell_type": "markdown",
   "metadata": {},
   "source": [
    "Next, we need to specify where we want to download our data and what data we want to download. The only line you may need to change is the setting of the `path_to_data_folder_on_your_machine` variable if your folder setup is different that was made by default in the Docker setup"
   ]
  },
  {
   "cell_type": "code",
   "execution_count": null,
   "metadata": {
    "editable": true,
    "id": "-gvnjXWWyFzy",
    "slideshow": {
     "slide_type": ""
    },
    "tags": []
   },
   "outputs": [],
   "source": [
    "path_to_data_folder_on_your_machine = '../data'  # <--- Please update this variable if needed to match your data location\n",
    "\n",
    "proposal_id = 1366  # This is the program ID for the JWST Transiting Exoplanet Community ERS program\n",
    "observation_id = 11  # This is the observation ID for the MIRI/LRS phase curve of WASP-43b\n",
    "visit_id = 1  # There was only one visit as a part of this observation\n",
    "exposure_id = 1  # For our purposes, we're only going to download the first exposure\n",
    "segment_ids = [1, 2, 3, 4, 5, 6]  # For our purposes, we're only going to download the first 6 segments\n",
    "\n",
    "# For our purposes, we're only going to grab the uncal files\n",
    "# (0 = raw, 1 = uncalibrated, 2 = calibrated, 3 = science product,\n",
    "#  4 = contributed science product).\n",
    "calib_level = 1\n",
    "# FITS file type, varies by calib_level.\n",
    "# 1: UNCAL, GS-ACQ1, GS-ACQ2, GS-FG, GS-ID, GS-TRACK\n",
    "# 2: CAL, CALINTS, RATE, RATEINTS, X1DINTS, ANNNN_CRFINTS,\n",
    "# GS-ACQ1, GS-ACQ2, GS-FG, GS-ID, GS-TRACK, RAMP\n",
    "# 3: X1DINTS, WHTLT\n",
    "subgroup = 'UNCAL'"
   ]
  },
  {
   "cell_type": "markdown",
   "metadata": {},
   "source": [
    "---\n",
    "## 2. Querying MAST using astroquery.mast"
   ]
  },
  {
   "cell_type": "code",
   "execution_count": null,
   "metadata": {},
   "outputs": [],
   "source": [
    "# The following code snippet will make sure that the path specified by path_to_data_folder_on_your_machine exists\n",
    "path_to_data_folder_on_your_machine = os.path.expanduser(path_to_data_folder_on_your_machine)\n",
    "if path_to_data_folder_on_your_machine[-1] != os.path.sep:\n",
    "    path_to_data_folder_on_your_machine += os.path.sep\n",
    "if not os.path.exists(path_to_data_folder_on_your_machine):\n",
    "    os.makedirs(path_to_data_folder_on_your_machine, exist_ok=True)\n",
    "\n",
    "# The following code snippet will make a new directory within path_to_data_folder_on_your_machine called Uncalibrated which will store our downloaded _uncal files\n",
    "uncaldir = os.path.join(path_to_data_folder_on_your_machine, 'Uncalibrated'+os.path.sep)\n",
    "if not os.path.exists(uncaldir):\n",
    "    os.makedirs(uncaldir, exist_ok=True)"
   ]
  },
  {
   "cell_type": "code",
   "execution_count": null,
   "metadata": {
    "editable": true,
    "slideshow": {
     "slide_type": ""
    },
    "tags": []
   },
   "outputs": [],
   "source": [
    "# The following code will convert your inputs to properly formatted strings\n",
    "if type(proposal_id) is not str:\n",
    "    proposal_id = str(proposal_id).zfill(5)\n",
    "if type(observation_id) is not str:\n",
    "    observation_id = str(observation_id).zfill(3)\n",
    "if type(visit_id) is not str:\n",
    "    visit_id = str(visit_id).zfill(3)\n",
    "if type(exposure_id) is not str:\n",
    "    exposure_id = str(exposure_id).zfill(5)\n",
    "if type(calib_level) is int:\n",
    "    calib_level = [calib_level]\n",
    "\n",
    "# This code will specify the obsid using wildcards. obs_id comes in two flavors\n",
    "obs_id = f'jw{proposal_id}-o{observation_id}_t*'\n",
    "obs_id2 = []\n",
    "for seg_id in segment_ids:\n",
    "    obs_id2.append(f'jw{proposal_id}{observation_id}{visit_id}_04103_{exposure_id}-seg{seg_id:03}_mirimage')\n",
    "\n",
    "# Query MAST for requested visit\n",
    "sci_table = Observations.query_criteria(proposal_id=proposal_id,\n",
    "                                        obs_id=obs_id)\n",
    "table = []\n",
    "if len(sci_table) > 0:\n",
    "    # Get product list\n",
    "    data_products_by_id = Observations.get_product_list(sci_table)\n",
    "    # Filter for desired files\n",
    "    table = Observations.filter_products(\n",
    "        data_products_by_id, productSubGroupDescription=subgroup,\n",
    "        calib_level=calib_level, obs_id=obs_id2)"
   ]
  },
  {
   "cell_type": "markdown",
   "metadata": {
    "id": "aUi-c9pjyGzI"
   },
   "source": [
    "---\n",
    "## 3. Downloading _uncal files for local processing\n",
    "\n",
    "The code cell below downloads the _uncal files from MAST for local processing of the data"
   ]
  },
  {
   "cell_type": "code",
   "execution_count": null,
   "metadata": {},
   "outputs": [],
   "source": [
    "manifest = Observations.download_products(table, download_dir=uncaldir, flat=True)"
   ]
  },
  {
   "cell_type": "markdown",
   "metadata": {},
   "source": [
    "---\n",
    "## 4. Downloading _uncal files for JupyterHub/AWS processing\n",
    "\n",
    "If you are working on AWS, you can download the _uncal FITS files directly from AWS for faster downloads"
   ]
  },
  {
   "cell_type": "code",
   "execution_count": null,
   "metadata": {},
   "outputs": [],
   "source": [
    "# Observations.enable_cloud_dataset()\n",
    "# manifest = Observations.download_products(table, download_dir=uncaldir, flat=True)"
   ]
  },
  {
   "cell_type": "markdown",
   "metadata": {
    "editable": true,
    "slideshow": {
     "slide_type": ""
    },
    "tags": []
   },
   "source": [
    "---\n",
    "## 5. Checking that the _uncal files downloaded successfully\n",
    "Let's double-check that we have all 6 of the segments we want downloaded and stored in the 'Uncalibrated' folder."
   ]
  },
  {
   "cell_type": "code",
   "execution_count": null,
   "metadata": {
    "editable": true,
    "slideshow": {
     "slide_type": ""
    },
    "tags": []
   },
   "outputs": [],
   "source": [
    "np.sort(os.listdir(uncaldir))"
   ]
  },
  {
   "cell_type": "markdown",
   "metadata": {},
   "source": [
    "---"
   ]
  }
 ],
 "metadata": {
  "colab": {
   "provenance": [
    {
     "file_id": "13YCXwyTeoZts7hpn3e1pvQaE3D_m8pkh",
     "timestamp": 1687465713994
    },
    {
     "file_id": "1tBWX0Sr9L2mPeIO7fwwja1ONRIL1APUO",
     "timestamp": 1685750204082
    },
    {
     "file_id": "11p3-i8oaqTu_5iFGbBMitj4r9rxR13-O",
     "timestamp": 1683275888937
    }
   ],
   "toc_visible": true
  },
  "kernelspec": {
   "display_name": "Python 3 (ipykernel)",
   "language": "python",
   "name": "python3"
  },
  "language_info": {
   "codemirror_mode": {
    "name": "ipython",
    "version": 3
   },
   "file_extension": ".py",
   "mimetype": "text/x-python",
   "name": "python",
   "nbconvert_exporter": "python",
   "pygments_lexer": "ipython3",
   "version": "3.13.5"
  }
 },
 "nbformat": 4,
 "nbformat_minor": 4
}
